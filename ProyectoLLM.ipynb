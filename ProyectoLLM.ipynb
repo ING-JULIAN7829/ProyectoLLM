{
 "cells": [
  {
   "cell_type": "markdown",
   "id": "1dcbc8f4",
   "metadata": {},
   "source": [
    "\n",
    "# UNIVERSIDAD CATÓLICA DE COLOMBIA  \n",
    "\n",
    "## ANÁLISIS Y ALGORITMOS ESTOCÁSTICOS  \n",
    "\n",
    "### PROYECTO LLM – PERFUMERÍA  \n",
    "\n",
    "**JULIÁN JOEL JIMÉNEZ CÁRDENAS – 67001024**  \n",
    "**DAVID MAURICIO HERAZO LÓPEZ – 67000986**  \n",
    "\n",
    "**PROFESOR: JORGE BLANCO**  \n",
    "\n",
    "**2025**\n"
   ]
  },
  {
   "cell_type": "markdown",
   "id": "fa0f0b58",
   "metadata": {},
   "source": [
    "\n",
    "## PROBLEMA A RESOLVER  \n",
    "\n",
    "Durante el primer semestre del año 2025, se implementó una solución tecnológica para una MIPYME ubicada en Suba, \n",
    "orientada a fortalecer su posicionamiento de marca mediante una plataforma de e-commerce.  \n",
    "Aunque el proyecto permitió a la empresa establecer presencia digital, se identificó una **limitación crítica**:  \n",
    "la ausencia de asesoría personalizada al cliente durante la selección de productos.  \n",
    "\n",
    "Esta omisión, motivada por restricciones de capital que impidieron contratar personal especializado, \n",
    "genera una brecha significativa entre la operación actual y las expectativas del mercado. \n",
    "La falta de acompañamiento en la decisión de compra afecta la experiencia de usuario y reduce la tasa de conversión.\n"
   ]
  },
  {
   "cell_type": "markdown",
   "id": "f5a19243",
   "metadata": {},
   "source": [
    "\n",
    "## OBJETIVOS  \n",
    "\n",
    "### Objetivo General  \n",
    "Mejorar la experiencia de usuario en el e-commerce de **Elegassence** mediante la implementación de un chatbot de asesoramiento, \n",
    "capaz de brindar atención inmediata, personalizada y efectiva, lo que incrementará la satisfacción del cliente y las conversiones.  \n",
    "\n",
    "### Objetivos Específicos  \n",
    "- **Integración de la API**: Conectar la plataforma con la API de OpenAI para aprovechar su procesamiento de lenguaje natural.  \n",
    "- **Asesoramiento de productos**: Desarrollar recomendaciones basadas en preguntas o descripciones del cliente.  \n",
    "- **Respuestas a preguntas frecuentes**: Automatizar la atención de consultas comunes (envíos, devoluciones, pagos).  \n"
   ]
  },
  {
   "cell_type": "markdown",
   "id": "9d959988",
   "metadata": {},
   "source": [
    "\n",
    "## JUSTIFICACIÓN  \n",
    "\n",
    "Elegassence enfrenta una limitación estratégica: la ausencia de asesoría al cliente en su canal digital.  \n",
    "Esto genera pérdida de ventas potenciales y sobrecarga de personal con tareas repetitivas.  \n",
    "\n",
    "Un chatbot basado en la API de OpenAI representa una solución **eficiente, escalable y de bajo costo**, \n",
    "capaz de operar 24/7 con alta calidad en la interacción.  \n",
    "La herramienta permitirá:  \n",
    "- Aumentar las conversiones.  \n",
    "- Mejorar la experiencia del cliente.  \n",
    "- Liberar recursos humanos para actividades de mayor valor.  \n"
   ]
  },
  {
   "cell_type": "markdown",
   "id": "201d27eb",
   "metadata": {},
   "source": [
    "\n",
    "## MODELO LLM SELECCIONADO  \n",
    "\n",
    "El modelo seleccionado es **GPT-3.5-turbo**, una solución eficiente y rentable que ofrece:  \n",
    "- Comprensión avanzada del lenguaje natural (NLU).  \n",
    "- Generación de respuestas coherentes y fluidas.  \n",
    "- Escalabilidad para soportar crecimiento de clientes.  \n",
    "- Flexibilidad en el tono y personalización de interacciones.  \n",
    "\n",
    "Este modelo equilibra costo y rendimiento, adaptándose a las necesidades de una MIPYME como Elegassence.  \n"
   ]
  },
  {
   "cell_type": "markdown",
   "id": "0e1bbfa5",
   "metadata": {},
   "source": [
    "\n",
    "## ARQUITECTURA DEL SISTEMA  \n",
    "\n",
    "La solución se estructurará de la siguiente manera:  \n",
    "\n",
    "1. **Frontend**: Plataforma de e-commerce de Elegassence.  \n",
    "2. **Middleware/API**: Conector entre el e-commerce y la API de OpenAI.  \n",
    "3. **Backend/Servidor**: Procesamiento de solicitudes, integración con inventario y FAQ.  \n",
    "4. **Modelo LLM (GPT-3.5-turbo)**: Motor de procesamiento de lenguaje natural.  \n",
    "5. **Usuario final**: Interacción con el chatbot para recibir asesoría en tiempo real.  \n",
    "\n",
    "![Arquitectura del Sistema](arquitectura.png)\n"
   ]
  },
  {
   "cell_type": "markdown",
   "id": "56e345ee",
   "metadata": {},
   "source": [
    "\n",
    "## PLAN DE IMPLEMENTACIÓN  \n",
    "\n",
    "1. **Análisis de requerimientos** – Identificación de necesidades y limitaciones técnicas.  \n",
    "2. **Integración inicial** – Conexión del e-commerce con la API de OpenAI.  \n",
    "3. **Desarrollo del chatbot** – Configuración de prompts, recomendaciones y FAQ.  \n",
    "4. **Pruebas piloto** – Validación con un grupo reducido de usuarios.  \n",
    "5. **Optimización** – Ajustes de precisión, tono y experiencia.  \n",
    "6. **Despliegue** – Implementación completa en la plataforma de Elegassence.  \n"
   ]
  },
  {
   "cell_type": "markdown",
   "id": "a5fcaefc",
   "metadata": {},
   "source": [
    "\n",
    "## REQUERIMIENTOS TÉCNICOS  \n",
    "\n",
    "- **Lenguaje**: Python 3.9+  \n",
    "- **Framework**: Flask o FastAPI (para integrar la API).  \n",
    "- **Modelo LLM**: GPT-3.5-turbo vía OpenAI API.  \n",
    "- **Infraestructura**: Servidor en la nube (ej. AWS, Render o Heroku).  \n",
    "- **Base de datos**: MySQL/PostgreSQL para inventario y FAQ.  \n",
    "- **Frontend**: Plataforma actual de Elegassence (basada en e-commerce).  \n"
   ]
  },
  {
   "cell_type": "markdown",
   "id": "b277c7d9",
   "metadata": {},
   "source": [
    "\n",
    "## PROMPTS DE EJEMPLO PARA EL CHATBOT  \n",
    "\n",
    "- *\"¿Qué vestido elegante recomiendan para una boda en la noche?\"*  \n",
    "- *\"Soy alérgico a fragancias fuertes, ¿qué perfume me sugieren?\"*  \n",
    "- *\"¿Cuánto tiempo tarda el envío estándar?\"*  \n",
    "- *\"¿Aceptan pagos contraentrega?\"*  \n"
   ]
  },
  {
   "cell_type": "markdown",
   "id": "da17cdd9",
   "metadata": {},
   "source": [
    "\n",
    "## GITHUB  \n",
    "\n",
    "Repositorio oficial del proyecto:  \n",
    "[https://github.com/ING-JULIAN7829/ProyectoLLM.git](https://github.com/ING-JULIAN7829/ProyectoLLM.git)\n"
   ]
  }
 ],
 "metadata": {
  "language_info": {
   "name": "python"
  }
 },
 "nbformat": 4,
 "nbformat_minor": 5
}
